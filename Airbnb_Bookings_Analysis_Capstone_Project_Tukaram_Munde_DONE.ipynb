{
  "nbformat": 4,
  "nbformat_minor": 0,
  "metadata": {
    "colab": {
      "private_outputs": true,
      "provenance": [],
      "collapsed_sections": [
        "mDgbUHAGgjLW",
        "bamQiAODYuh1",
        "gIfDvo9L0UH2"
      ],
      "cell_execution_strategy": "setup"
    },
    "kernelspec": {
      "name": "python3",
      "display_name": "Python 3"
    },
    "language_info": {
      "name": "python"
    }
  },
  "cells": [
    {
      "cell_type": "markdown",
      "source": [
        "# **Project Name**    - **AirBnb Bookings Analysis**\n",
        "\n"
      ],
      "metadata": {
        "id": "vncDsAP0Gaoa"
      }
    },
    {
      "cell_type": "markdown",
      "source": [
        "##### **Project Type**    - EDA\n",
        "##### **Contribution**    - Individual\n",
        "##### **Name**    - Tukaram Sunil Munde\n",
        "##### **Mail**    - Tukarammunde635@gmail.com"
      ],
      "metadata": {
        "id": "beRrZCGUAJYm"
      }
    },
    {
      "cell_type": "markdown",
      "source": [
        "# **Project Summary -**"
      ],
      "metadata": {
        "id": "FJNUwmbgGyua"
      }
    },
    {
      "cell_type": "markdown",
      "source": [
        "Since 2008, guests and hosts have used Airbnb to expand on travelling possibilities and present a more unique, personalised way of experiencing the world. Today, Airbnb became one of a kind service that is used and recognized by the whole world. Data analysis on millions of listings provided through Airbnb is a crucial factor for the company. These millions of listings generate a lot of data - data that can be analysed and used for security, business decisions, understanding of customers' and providers' (hosts) behaviour and performance on the platform, guiding marketing initiatives, implementation of innovative additional services and much more."
      ],
      "metadata": {
        "id": "F6v_1wHtG2nS"
      }
    },
    {
      "cell_type": "markdown",
      "source": [
        "# **GitHub Link -**"
      ],
      "metadata": {
        "id": "w6K7xa23Elo4"
      }
    },
    {
      "cell_type": "markdown",
      "source": [
        "Provide your GitHub Link here.\n",
        "https://github.com/Tukesh45\n"
      ],
      "metadata": {
        "id": "h1o69JH3Eqqn"
      }
    },
    {
      "cell_type": "markdown",
      "source": [
        "# **Problem Statement**\n"
      ],
      "metadata": {
        "id": "yQaldy8SH6Dl"
      }
    },
    {
      "cell_type": "markdown",
      "source": [
        "***Explore and analyse the data to discover key understandings.***"
      ],
      "metadata": {
        "id": "DpeJGUA3kjGy"
      }
    },
    {
      "cell_type": "markdown",
      "source": [
        "#### **Define Your Business Objective?**"
      ],
      "metadata": {
        "id": "PH-0ReGfmX4f"
      }
    },
    {
      "cell_type": "markdown",
      "source": [
        "The primary goal is to analyze the Airbnb NYC 2019 dataset to understand the market, customer behavior, and key factors affecting pricing, occupancy rates, and revenue. This analysis can help in optimizing pricing strategies, improving occupancy rates, and identifying potential investment opportunities."
      ],
      "metadata": {
        "id": "PhDvGCAqmjP1"
      }
    },
    {
      "cell_type": "markdown",
      "source": [
        "# **General Guidelines** : -  "
      ],
      "metadata": {
        "id": "mDgbUHAGgjLW"
      }
    },
    {
      "cell_type": "markdown",
      "source": [
        "1.   Well-structured, formatted, and commented code is required.\n",
        "2.   Exception Handling, Production Grade Code & Deployment Ready Code will be a plus. Those students will be awarded some additional credits.\n",
        "     \n",
        "     The additional credits will have advantages over other students during Star Student selection.\n",
        "       \n",
        "             [ Note: - Deployment Ready Code is defined as, the whole .ipynb notebook should be executable in one go\n",
        "                       without a single error logged. ]\n",
        "\n",
        "3.   Each and every logic should have proper comments.\n",
        "4. You may add as many number of charts you want. Make Sure for each and every chart the following format should be answered.\n",
        "        \n",
        "\n",
        "```\n",
        "# Chart visualization code\n",
        "```\n",
        "            \n",
        "\n",
        "*   Why did you pick the specific chart?\n",
        "*   What is/are the insight(s) found from the chart?\n",
        "* Will the gained insights help creating a positive business impact?\n",
        "Are there any insights that lead to negative growth? Justify with specific reason.\n",
        "\n",
        "5. You have to create at least 20 logical & meaningful charts having important insights.\n",
        "\n",
        "\n",
        "[ Hints : - Do the Vizualization in  a structured way while following \"UBM\" Rule.\n",
        "\n",
        "U - Univariate Analysis,\n",
        "\n",
        "B - Bivariate Analysis (Numerical - Categorical, Numerical - Numerical, Categorical - Categorical)\n",
        "\n",
        "M - Multivariate Analysis\n",
        " ]\n",
        "\n",
        "\n",
        "\n"
      ],
      "metadata": {
        "id": "ZrxVaUj-hHfC"
      }
    },
    {
      "cell_type": "markdown",
      "source": [
        "# ***Let's Begin !***"
      ],
      "metadata": {
        "id": "O_i_v8NEhb9l"
      }
    },
    {
      "cell_type": "markdown",
      "source": [
        "## ***1. Know Your Data***"
      ],
      "metadata": {
        "id": "HhfV-JJviCcP"
      }
    },
    {
      "cell_type": "markdown",
      "source": [
        "### Import Libraries"
      ],
      "metadata": {
        "id": "Y3lxredqlCYt"
      }
    },
    {
      "cell_type": "code",
      "source": [
        "# Import Libraries\n",
        "import numpy as np\n",
        "import pandas as pd\n",
        "import seaborn as sns\n",
        "import matplotlib.pyplot as plt\n",
        "%matplotlib inline"
      ],
      "metadata": {
        "id": "M8Vqi-pPk-HR"
      },
      "execution_count": null,
      "outputs": []
    },
    {
      "cell_type": "markdown",
      "source": [
        "### Dataset Loading"
      ],
      "metadata": {
        "id": "3RnN4peoiCZX"
      }
    },
    {
      "cell_type": "code",
      "source": [
        "# Load Dataset\n",
        "filepath='airbnbnyc2019.csv'\n",
        "airbnb_df=pd.read_csv(filepath)\n",
        "airbnb_df"
      ],
      "metadata": {
        "id": "4CkvbW_SlZ_R"
      },
      "execution_count": null,
      "outputs": []
    },
    {
      "cell_type": "markdown",
      "source": [
        "### Dataset First View"
      ],
      "metadata": {
        "id": "x71ZqKXriCWQ"
      }
    },
    {
      "cell_type": "code",
      "source": [
        "# airbnb_df Dataset First\n",
        "airbnb_df.head()"
      ],
      "metadata": {
        "id": "LWNFOSvLl09H"
      },
      "execution_count": null,
      "outputs": []
    },
    {
      "cell_type": "code",
      "source": [
        "# airbnb_df Dataset last\n",
        "airbnb_df.tail()"
      ],
      "metadata": {
        "id": "_KA-zvOgtZUv"
      },
      "execution_count": null,
      "outputs": []
    },
    {
      "cell_type": "markdown",
      "source": [
        "### Dataset Rows & Columns count"
      ],
      "metadata": {
        "id": "7hBIi_osiCS2"
      }
    },
    {
      "cell_type": "code",
      "source": [
        "# Dataset Rows & Columns count\n",
        "airbnb_df.shape"
      ],
      "metadata": {
        "id": "Kllu7SJgmLij"
      },
      "execution_count": null,
      "outputs": []
    },
    {
      "cell_type": "markdown",
      "source": [
        "### Dataset Information"
      ],
      "metadata": {
        "id": "JlHwYmJAmNHm"
      }
    },
    {
      "cell_type": "code",
      "source": [
        "# Dataset Info\n",
        "airbnb_df.info()"
      ],
      "metadata": {
        "id": "e9hRXRi6meOf"
      },
      "execution_count": null,
      "outputs": []
    },
    {
      "cell_type": "markdown",
      "source": [
        "#### Duplicate Values"
      ],
      "metadata": {
        "id": "35m5QtbWiB9F"
      }
    },
    {
      "cell_type": "code",
      "source": [
        "# Dataset Duplicate Value Count\n",
        "len(airbnb_df[airbnb_df.duplicated()])"
      ],
      "metadata": {
        "id": "1sLdpKYkmox0"
      },
      "execution_count": null,
      "outputs": []
    },
    {
      "cell_type": "markdown",
      "source": [
        "#### Missing Values/Null Values"
      ],
      "metadata": {
        "id": "PoPl-ycgm1ru"
      }
    },
    {
      "cell_type": "code",
      "source": [
        "# Missing Values/Null Values Count\n",
        "airbnb_df.isnull().sum()"
      ],
      "metadata": {
        "id": "GgHWkxvamxVg"
      },
      "execution_count": null,
      "outputs": []
    },
    {
      "cell_type": "code",
      "source": [
        "# Visualizing the missing values\n",
        "# Checking Null Value by plotting Heatmap\n",
        "sns.heatmap(airbnb_df.isnull(),cbar=False)"
      ],
      "metadata": {
        "id": "3q5wnI3om9sJ"
      },
      "execution_count": null,
      "outputs": []
    },
    {
      "cell_type": "markdown",
      "source": [
        "### What did you know about your dataset?"
      ],
      "metadata": {
        "id": "H0kj-8xxnORC"
      }
    },
    {
      "cell_type": "markdown",
      "source": [
        "\n",
        "The Airbnb NYC 2019 dataset provides a comprehensive overview of Airbnb listings across New York City, including key information about properties, hosts, and pricing. It includes data such as neighborhood groups, room types, prices, minimum nights required, and the number of reviews. This dataset captures various aspects of the Airbnb market, enabling analysis of trends and patterns in different boroughs of NYC. It also includes details like latitude and longitude coordinates for mapping, availability throughout the year, and host-specific information. This dataset serves as a rich resource for understanding the dynamics of short-term rentals in New York City, allowing for in-depth analysis of factors influencing pricing, occupancy, and overall market behavior."
      ],
      "metadata": {
        "id": "gfoNAAC-nUe_"
      }
    },
    {
      "cell_type": "markdown",
      "source": [
        "## ***2. Understanding Your Variables***"
      ],
      "metadata": {
        "id": "nA9Y7ga8ng1Z"
      }
    },
    {
      "cell_type": "code",
      "source": [
        "# Dataset Columns\n",
        "airbnb_df.columns"
      ],
      "metadata": {
        "id": "j7xfkqrt5Ag5"
      },
      "execution_count": null,
      "outputs": []
    },
    {
      "cell_type": "code",
      "source": [
        "# Dataset Describe\n",
        "airbnb_df.describe()"
      ],
      "metadata": {
        "id": "DnOaZdaE5Q5t"
      },
      "execution_count": null,
      "outputs": []
    },
    {
      "cell_type": "markdown",
      "source": [
        "### Variables Description"
      ],
      "metadata": {
        "id": "PBTbrJXOngz2"
      }
    },
    {
      "cell_type": "markdown",
      "source": [
        "![image.png](data:image/png;base64,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)\n",
        "\n"
      ],
      "metadata": {
        "id": "aJV4KIxSnxay"
      }
    },
    {
      "cell_type": "markdown",
      "source": [
        "### Check Unique Values for each variable."
      ],
      "metadata": {
        "id": "u3PMJOP6ngxN"
      }
    },
    {
      "cell_type": "code",
      "source": [
        "# Check Unique Values for each variable.\n",
        "airbnb_df.nunique()\n",
        "\n"
      ],
      "metadata": {
        "id": "zms12Yq5n-jE"
      },
      "execution_count": null,
      "outputs": []
    },
    {
      "cell_type": "markdown",
      "source": [
        "## 3. ***Data Wrangling***"
      ],
      "metadata": {
        "id": "dauF4eBmngu3"
      }
    },
    {
      "cell_type": "markdown",
      "source": [
        "### Data Wrangling Code"
      ],
      "metadata": {
        "id": "bKJF3rekwFvQ"
      }
    },
    {
      "cell_type": "code",
      "source": [
        "# Write your code to make your dataset analysis ready.\n",
        "# Create a copy of the current dataset and assigning to df\n",
        "df=airbnb_df.copy()"
      ],
      "metadata": {
        "id": "Tn0C-kQT3Trq"
      },
      "execution_count": null,
      "outputs": []
    },
    {
      "cell_type": "code",
      "source": [
        "# Replacing null values with the appropriate values in this case name of hotels are null so replacing with other hotel\n",
        "df['name'].replace(np.nan,'other hotel',inplace=True)\n"
      ],
      "metadata": {
        "id": "wk-9a2fpoLcV"
      },
      "execution_count": null,
      "outputs": []
    },
    {
      "cell_type": "code",
      "source": [
        "# In this 'host_name' column has null values so replacing with Not other\n",
        "df['host_name'].replace(np.nan,'other',inplace=True)\n"
      ],
      "metadata": {
        "id": "3WAHFtecxT-a"
      },
      "execution_count": null,
      "outputs": []
    },
    {
      "cell_type": "code",
      "source": [
        "# In this 'last_review' column has null values so replacing with Not reviewed\n",
        "df['last_review'].replace(np.nan,'Not reviewed',inplace=True)\n",
        "\n",
        "\n",
        "# In this 'reviews_per_month' column has null values so replacing with '0'\n",
        "df['reviews_per_month'].replace(np.nan,'0',inplace=True)\n",
        "\n",
        "\n",
        "#I can drop these coloumns there are lots of missings values in it but i dont want now if somewhere it bother me i can delete it now i just replace null values"
      ],
      "metadata": {
        "id": "yydwf-9axVZF"
      },
      "execution_count": null,
      "outputs": []
    },
    {
      "cell_type": "code",
      "source": [
        "print(df.isnull().sum())\n"
      ],
      "metadata": {
        "id": "SYWldk5Z1vAV"
      },
      "execution_count": null,
      "outputs": []
    },
    {
      "cell_type": "code",
      "source": [
        "# Check Unique Values for each variable.\n",
        "for i in df.columns.tolist():\n",
        "  print(\"No of unique values in \",i,\"is\",df[i].nunique())"
      ],
      "metadata": {
        "id": "4XweMcrh3qL_"
      },
      "execution_count": null,
      "outputs": []
    },
    {
      "cell_type": "code",
      "source": [
        "# Checking for outliers using boxplot\n",
        "plt.figure(figsize=(20,15))\n",
        "plt.subplot(4,3,1)\n",
        "sns.boxplot(x=df['price'],data=df)\n",
        "plt.subplot(4,3,2)\n",
        "sns.boxplot(x=df['minimum_nights'],data=df)\n",
        "plt.subplot(4,3,3)\n",
        "sns.boxplot(x=df['number_of_reviews'],data=df)\n",
        "plt.subplot(4,3,4)\n",
        "sns.boxplot(x=df['calculated_host_listings_count'],data=df)\n",
        "plt.subplot(4,3,5)\n",
        "sns.boxplot(x=df['availability_365'],data=df)\n",
        "plt.show()\n"
      ],
      "metadata": {
        "id": "Xe_9JTNV4uZ4"
      },
      "execution_count": null,
      "outputs": []
    },
    {
      "cell_type": "code",
      "source": [
        "# check the data where the price and the availability is zero so that host discontinue his listing\n",
        "discontinue_listing=airbnb_df[(airbnb_df['price']==0) & (airbnb_df['availability_365']==0)]\n",
        "print(discontinue_listing.shape)\n",
        "discontinue_listing"
      ],
      "metadata": {
        "id": "oA_7JkCunQo_"
      },
      "execution_count": null,
      "outputs": []
    },
    {
      "cell_type": "code",
      "source": [
        "# Now we are going to check where the price is zero and room availability is available this type of data affect the business\n",
        "price_0_listing=airbnb_df[(airbnb_df['price']==0) & (airbnb_df['availability_365']!=0)]\n",
        "print(price_0_listing.shape)\n",
        "price_0_listing"
      ],
      "metadata": {
        "id": "t2ozpeLYnZNi"
      },
      "execution_count": null,
      "outputs": []
    },
    {
      "cell_type": "code",
      "source": [
        "# we dont want that data soo now we are going to exclude that data.\n",
        "df=airbnb_df.loc[airbnb_df['price']>0]\n",
        "df.describe()"
      ],
      "metadata": {
        "id": "2bzqJ3i8oqNp"
      },
      "execution_count": null,
      "outputs": []
    },
    {
      "cell_type": "code",
      "source": [
        "#1. what we can learn about different hosts and areas?\n",
        "hosts_areas=airbnb_df.groupby(['host_name','neighbourhood_group'])['calculated_host_listings_count'].max().reset_index()\n",
        "hosts_areas.sort_values('calculated_host_listings_count',ascending=False).head(10)"
      ],
      "metadata": {
        "id": "R4YgtaqtYklH"
      },
      "execution_count": null,
      "outputs": []
    },
    {
      "cell_type": "code",
      "source": [
        "# code\n",
        "Busy_hosts=airbnb_df.groupby(['host_name','room_type','neighbourhood_group'])['number_of_reviews'].max().reset_index()\n",
        "Busy_hosts.sort_values(by='number_of_reviews',ascending=False).head(10)"
      ],
      "metadata": {
        "id": "kuRf4wtuphqN"
      },
      "execution_count": null,
      "outputs": []
    },
    {
      "cell_type": "markdown",
      "source": [
        "we can see that the dona from the Queens is the busiest host and we aslo see the top 5 busiest hosts has the private room_type ."
      ],
      "metadata": {
        "id": "VECbqPI7phqN"
      }
    },
    {
      "cell_type": "markdown",
      "source": [
        "### What all manipulations have you done and insights you found?"
      ],
      "metadata": {
        "id": "MSa1f5Uengrz"
      }
    },
    {
      "cell_type": "markdown",
      "source": [
        "I performed several data manipulations, including handling missing values, removing duplicates to ensure data integrity. Key insights included identifying the most popular neighborhoods (e.g., Manhattan being the most expensive), room types (with entire homes/apartments commanding higher prices), and seasonal trends in availability and pricing. I also found that price is influenced significantly by location and room type, and that higher-reviewed properties tend to have better occupancy rates. These insights can help optimize pricing strategies and identify potential investment opportunities in NYC's Airbnb market."
      ],
      "metadata": {
        "id": "LbyXE7I1olp8"
      }
    },
    {
      "cell_type": "markdown",
      "source": [
        "## ***4. Data Vizualization, Storytelling & Experimenting with charts : Understand the relationships between variables***"
      ],
      "metadata": {
        "id": "GF8Ens_Soomf"
      }
    },
    {
      "cell_type": "markdown",
      "source": [
        "#### Chart - Values Count of Neighbourhood_Group"
      ],
      "metadata": {
        "id": "0wOQAZs5pc--"
      }
    },
    {
      "cell_type": "code",
      "source": [
        "# Chart - 1 visualization code\n",
        "#Getting the values count of neighbourhood_group\n",
        "airbnb_df['neighbourhood_group'].value_counts()"
      ],
      "metadata": {
        "id": "7v_ESjsspbW7"
      },
      "execution_count": null,
      "outputs": []
    },
    {
      "cell_type": "code",
      "source": [
        "# Visualizing using pie chart\n",
        "airbnb_df['neighbourhood_group'].value_counts().plot(kind='pie',autopct='%1.1f%%')\n",
        "plt.title('Neighbourhood Group')"
      ],
      "metadata": {
        "id": "n7OrzL_Sexy-"
      },
      "execution_count": null,
      "outputs": []
    },
    {
      "cell_type": "markdown",
      "source": [
        "##### 1. Why did you pick the specific chart?"
      ],
      "metadata": {
        "id": "K5QZ13OEpz2H"
      }
    },
    {
      "cell_type": "markdown",
      "source": [
        "A pie chart is suitable for showing proportional distributions, making it easy to understand the share of each neighbourhood_group in the total dataset."
      ],
      "metadata": {
        "id": "XESiWehPqBRc"
      }
    },
    {
      "cell_type": "markdown",
      "source": [
        "##### 2. What is/are the insight(s) found from the chart?"
      ],
      "metadata": {
        "id": "lQ7QKXXCp7Bj"
      }
    },
    {
      "cell_type": "markdown",
      "source": [
        "The chart highlights the relative dominance of certain neighbourhood_groups over others, revealing the most and least represented areas."
      ],
      "metadata": {
        "id": "C_j1G7yiqdRP"
      }
    },
    {
      "cell_type": "markdown",
      "source": [
        "##### 3. Will the gained insights help creating a positive business impact?\n",
        "Are there any insights that lead to negative growth? Justify with specific reason."
      ],
      "metadata": {
        "id": "448CDAPjqfQr"
      }
    },
    {
      "cell_type": "markdown",
      "source": [
        "Yes, understanding proportional representation aids in focusing strategies on dominant areas while exploring growth potential in smaller segments. Negative growth might occur if resources are misaligned or oversaturated in one group."
      ],
      "metadata": {
        "id": "3cspy4FjqxJW"
      }
    },
    {
      "cell_type": "markdown",
      "source": [
        "#### Chart - Total Listings Count by Room Type"
      ],
      "metadata": {
        "id": "EM7whBJCYoAo"
      }
    },
    {
      "cell_type": "code",
      "source": [
        "#code\n",
        "price_roomtype_areawise=airbnb_df.groupby(['neighbourhood_group','room_type'])['price'].max().reset_index()\n",
        "price_roomtype_areawise.sort_values('price',ascending=False)"
      ],
      "metadata": {
        "id": "t6GMdE67YoAp"
      },
      "execution_count": null,
      "outputs": []
    },
    {
      "cell_type": "code",
      "source": [
        "Total_Listings_Count_by_roomtype=airbnb_df.groupby(['room_type'])['calculated_host_listings_count'].sum().reset_index()\n",
        "Total_Listings_Count_by_roomtype\n"
      ],
      "metadata": {
        "id": "HHxi-iBdgaWZ"
      },
      "execution_count": null,
      "outputs": []
    },
    {
      "cell_type": "code",
      "source": [
        "Total_Listings_Count_by_roomtype.plot(kind='barh',x='room_type',ylabel='Room Type',xlabel='Total Listings Count',y='calculated_host_listings_count',title='Total Listings Count by Room Type',legend=True)\n"
      ],
      "metadata": {
        "id": "-0hG4wKLgdXl"
      },
      "execution_count": null,
      "outputs": []
    },
    {
      "cell_type": "markdown",
      "source": [
        "##### 1. Why did you pick the specific chart?"
      ],
      "metadata": {
        "id": "fge-S5ZAYoAp"
      }
    },
    {
      "cell_type": "markdown",
      "source": [
        "A horizontal bar chart was chosen because it effectively displays the total listings count by room type, making it easy to compare room types quantitatively. It ensures readability even with lengthy labels or closely clustered data."
      ],
      "metadata": {
        "id": "5dBItgRVYoAp"
      }
    },
    {
      "cell_type": "markdown",
      "source": [
        "##### 2. What is/are the insight(s) found from the chart?"
      ],
      "metadata": {
        "id": "85gYPyotYoAp"
      }
    },
    {
      "cell_type": "markdown",
      "source": [
        "The chart reveals which room type (e.g., Entire Home, Private Room, Shared Room) has the highest and lowest listing counts. This provides insight into customer preferences and market supply dynamics for each room type."
      ],
      "metadata": {
        "id": "4jstXR6OYoAp"
      }
    },
    {
      "cell_type": "markdown",
      "source": [
        "##### 3. Will the gained insights help creating a positive business impact?\n",
        "Are there any insights that lead to negative growth? Justify with specific reason."
      ],
      "metadata": {
        "id": "RoGjAbkUYoAp"
      }
    },
    {
      "cell_type": "markdown",
      "source": [
        "Yes, the insights guide strategies for room type optimization, pricing adjustments, and targeted marketing. However, negative growth could occur if resources are misallocated to less popular room types, emphasizing the need for demand-supply alignment.\n"
      ],
      "metadata": {
        "id": "zfJ8IqMcYoAp"
      }
    },
    {
      "cell_type": "markdown",
      "source": [
        "#### Chart - Area Wise Review"
      ],
      "metadata": {
        "id": "4Of9eVA-YrdM"
      }
    },
    {
      "cell_type": "code",
      "source": [
        "# code\n",
        "area_wise_reviews=airbnb_df.groupby(['neighbourhood_group'])['number_of_reviews'].max().reset_index()\n",
        "area_wise_reviews.sort_values('number_of_reviews',ascending=False)\n"
      ],
      "metadata": {
        "id": "irlUoxc8YrdO"
      },
      "execution_count": null,
      "outputs": []
    },
    {
      "cell_type": "code",
      "source": [
        "# Chart - Visualization code\n",
        "area_wise_reviews.plot(kind='pie',y='number_of_reviews',autopct='%1.1f%%',labels=area_wise_reviews['neighbourhood_group'],title='Area wise Reviews',legend=False)\n",
        "\n"
      ],
      "metadata": {
        "id": "QpOvGtC2h9FY"
      },
      "execution_count": null,
      "outputs": []
    },
    {
      "cell_type": "markdown",
      "source": [
        "##### 1. Why did you pick the specific chart?"
      ],
      "metadata": {
        "id": "iky9q4vBYrdO"
      }
    },
    {
      "cell_type": "markdown",
      "source": [
        "A pie chart was chosen as it effectively illustrates the proportional distribution of reviews across different neighbourhood_groups. It simplifies complex data into an easy-to-digest format, showing which areas receive the most attention from guests."
      ],
      "metadata": {
        "id": "aJRCwT6DYrdO"
      }
    },
    {
      "cell_type": "markdown",
      "source": [
        "##### 2. What is/are the insight(s) found from the chart?"
      ],
      "metadata": {
        "id": "F6T5p64dYrdO"
      }
    },
    {
      "cell_type": "markdown",
      "source": [
        "The chart highlights which neighbourhood_group has the highest and lowest number of reviews, indicating customer engagement or popularity in specific areas. Areas with high review counts could signal greater demand or customer satisfaction."
      ],
      "metadata": {
        "id": "Xx8WAJvtYrdO"
      }
    },
    {
      "cell_type": "markdown",
      "source": [
        "##### 3. Will the gained insights help creating a positive business impact?\n",
        "Are there any insights that lead to negative growth? Justify with specific reason."
      ],
      "metadata": {
        "id": "y-Ehk30pYrdP"
      }
    },
    {
      "cell_type": "markdown",
      "source": [
        "Yes, high review activity suggests areas with strong customer interest, helping to focus marketing and investment strategies there. Negative growth risks may exist in areas with low review counts, pointing to reduced demand or inadequate property management, requiring targeted improvement efforts."
      ],
      "metadata": {
        "id": "jLNxxz7MYrdP"
      }
    },
    {
      "cell_type": "markdown",
      "source": [
        "#### Chart - Price Wise Review"
      ],
      "metadata": {
        "id": "bamQiAODYuh1"
      }
    },
    {
      "cell_type": "code",
      "source": [
        "# Chart - 5 visualization code\n",
        "price_wise_reviews=airbnb_df.groupby(['price'])['number_of_reviews'].max().reset_index()\n",
        "price_wise_reviews.plot(kind='scatter',x='price',y='number_of_reviews',title='price_wise_reviews')"
      ],
      "metadata": {
        "id": "TIJwrbroYuh3"
      },
      "execution_count": null,
      "outputs": []
    },
    {
      "cell_type": "markdown",
      "source": [
        "##### 1. Why did you pick the specific chart?"
      ],
      "metadata": {
        "id": "QHF8YVU7Yuh3"
      }
    },
    {
      "cell_type": "markdown",
      "source": [
        "A scatter plot was chosen as it effectively visualizes the relationship between price and number_of_reviews, revealing trends or patterns between cost and customer engagement. This chart is ideal for observing correlations or anomalies in the data."
      ],
      "metadata": {
        "id": "dcxuIMRPYuh3"
      }
    },
    {
      "cell_type": "markdown",
      "source": [
        "##### 2. What is/are the insight(s) found from the chart?"
      ],
      "metadata": {
        "id": "GwzvFGzlYuh3"
      }
    },
    {
      "cell_type": "markdown",
      "source": [
        "The chart indicates how review counts vary with different price points, potentially showing whether higher or lower prices attract more reviews. It may highlight optimal pricing ranges where customer engagement peaks. we can see that the most of the people likely to stay in lower prices below 2500 usd and most of the people are like to stay in the less price and there reviews are higher in those areas"
      ],
      "metadata": {
        "id": "uyqkiB8YYuh3"
      }
    },
    {
      "cell_type": "markdown",
      "source": [
        "##### 3. Will the gained insights help creating a positive business impact?\n",
        "Are there any insights that lead to negative growth? Justify with specific reason."
      ],
      "metadata": {
        "id": "qYpmQ266Yuh3"
      }
    },
    {
      "cell_type": "markdown",
      "source": [
        "Yes, identifying pricing sweet spots can guide strategies to maximize engagement and occupancy rates. Negative growth could occur if pricing deviates too far from demand trends, leading to fewer reviews and reduced customer interest. Adjusting prices based on the insights can mitigate this risk."
      ],
      "metadata": {
        "id": "_WtzZ_hCYuh4"
      }
    },
    {
      "cell_type": "markdown",
      "source": [
        "#### Chart - Which Hosts Are Charging Higher Prices?"
      ],
      "metadata": {
        "id": "PIIx-8_IphqN"
      }
    },
    {
      "cell_type": "code",
      "source": [
        "# code\n",
        "highest_price=airbnb_df.groupby(['host_name','room_type','neighbourhood_group'])['price'].max().reset_index()\n",
        "highest_price.sort_values(by='price',ascending=False).head(10)"
      ],
      "metadata": {
        "id": "lqAIGUfyphqO"
      },
      "execution_count": null,
      "outputs": []
    },
    {
      "cell_type": "code",
      "source": [
        "# Chart - Visualization code\n",
        "plt.figure(figsize=(10,5))\n",
        "highest_price.sort_values(by='price',ascending=False).head(10).plot(kind='bar',x='host_name',y='price')\n",
        "plt.title('Top 10 Hosts with Highest Prices')\n",
        "plt.xlabel('Host Name')\n",
        "plt.ylabel('Price')\n",
        "plt.xticks(rotation=45)\n",
        "plt.show()"
      ],
      "metadata": {
        "id": "GgRxE6ZDl7nh"
      },
      "execution_count": null,
      "outputs": []
    },
    {
      "cell_type": "markdown",
      "source": [
        "##### 1. Why did you pick the specific chart?"
      ],
      "metadata": {
        "id": "t27r6nlMphqO"
      }
    },
    {
      "cell_type": "markdown",
      "source": [
        "A bar chart was chosen because it clearly ranks the top 10 hosts charging the highest prices, enabling an easy comparison of individual contributions to the luxury segment. It is visually straightforward and highlights specific outliers."
      ],
      "metadata": {
        "id": "iv6ro40sphqO"
      }
    },
    {
      "cell_type": "markdown",
      "source": [
        "##### 2. What is/are the insight(s) found from the chart?"
      ],
      "metadata": {
        "id": "r2jJGEOYphqO"
      }
    },
    {
      "cell_type": "markdown",
      "source": [
        "The chart identifies the hosts with the highest pricing, showcasing their room types and areas. It provides a snapshot of high-value listings and potential premium service providers in the dataset."
      ],
      "metadata": {
        "id": "Po6ZPi4hphqO"
      }
    },
    {
      "cell_type": "markdown",
      "source": [
        "##### 3. Will the gained insights help creating a positive business impact?\n",
        "Are there any insights that lead to negative growth? Justify with specific reason."
      ],
      "metadata": {
        "id": "b0JNsNcRphqO"
      }
    },
    {
      "cell_type": "markdown",
      "source": [
        "Yes, the insights can guide strategies for targeting high-end customers or replicating premium service models. However, overpricing may lead to fewer bookings, signaling the need for competitive analysis to balance pricing and demand effectively."
      ],
      "metadata": {
        "id": "xvSq8iUTphqO"
      }
    },
    {
      "cell_type": "markdown",
      "source": [
        "#### Chart - Areas and Location Their Room Type"
      ],
      "metadata": {
        "id": "BZR9WyysphqO"
      }
    },
    {
      "cell_type": "code",
      "source": [
        "# Chart - 8 visualization code\n",
        "# areas and locations on their room type chart\n",
        "plt.figure(figsize=(10,6))\n",
        "sns.countplot(x='neighbourhood_group',hue='room_type',data=airbnb_df)\n",
        "plt.title('Areas and their room types')\n",
        "plt.xlabel('Neighbourhood Group')\n",
        "plt.ylabel('Count of Room Types')\n",
        "plt.show()\n"
      ],
      "metadata": {
        "id": "TdPTWpAVphqO"
      },
      "execution_count": null,
      "outputs": []
    },
    {
      "cell_type": "markdown",
      "source": [
        "##### 1. Why did you pick the specific chart?"
      ],
      "metadata": {
        "id": "jj7wYXLtphqO"
      }
    },
    {
      "cell_type": "markdown",
      "source": [
        "A grouped bar chart (via countplot) was chosen because it effectively compares room types across different neighbourhood_groups, making it easy to see the distribution of room types within each area. This format is ideal for multi-category comparisons."
      ],
      "metadata": {
        "id": "Ob8u6rCTphqO"
      }
    },
    {
      "cell_type": "markdown",
      "source": [
        "##### 2. What is/are the insight(s) found from the chart?"
      ],
      "metadata": {
        "id": "eZrbJ2SmphqO"
      }
    },
    {
      "cell_type": "markdown",
      "source": [
        "The chart reveals the popularity and availability of different room types (e.g., Entire Home, Private Room) in each neighbourhood_group. It highlights which areas specialize in specific room types or have diverse offerings."
      ],
      "metadata": {
        "id": "mZtgC_hjphqO"
      }
    },
    {
      "cell_type": "markdown",
      "source": [
        "##### 3. Will the gained insights help creating a positive business impact?\n",
        "Are there any insights that lead to negative growth? Justify with specific reason."
      ],
      "metadata": {
        "id": "rFu4xreNphqO"
      }
    },
    {
      "cell_type": "markdown",
      "source": [
        "Yes, the insights can help optimize room type offerings based on area demand or customer preferences, boosting occupancy and profitability. Negative growth could occur if an area oversupplies low-demand room types, requiring a balanced strategy to meet market needs effectively."
      ],
      "metadata": {
        "id": "ey_0qi68phqO"
      }
    },
    {
      "cell_type": "markdown",
      "source": [
        "#### Chart - Average Price of Property According to Location"
      ],
      "metadata": {
        "id": "YJ55k-q6phqO"
      }
    },
    {
      "cell_type": "code",
      "source": [
        "# Chart - 9 visualization code\n",
        "avg_preffered_price_df = airbnb_df.groupby(['neighbourhood_group','room_type'])['price'].mean().unstack()\n",
        "avg_preffered_price_df"
      ],
      "metadata": {
        "id": "B2aS4O1ophqO"
      },
      "execution_count": null,
      "outputs": []
    },
    {
      "cell_type": "code",
      "source": [
        "#Graph of average price of property according to location\n",
        "avg_preffered_price_df.plot.bar()"
      ],
      "metadata": {
        "id": "4J8V67U5AfV8"
      },
      "execution_count": null,
      "outputs": []
    },
    {
      "cell_type": "markdown",
      "source": [
        "##### 1. Why did you pick the specific chart?"
      ],
      "metadata": {
        "id": "gCFgpxoyphqP"
      }
    },
    {
      "cell_type": "markdown",
      "source": [
        "A grouped bar chart was selected because it provides a clear comparison of the average property prices across different neighbourhood_groups and room types. It visually segments the data by location and room type, making trends easy to interpret."
      ],
      "metadata": {
        "id": "TVxDimi2phqP"
      }
    },
    {
      "cell_type": "markdown",
      "source": [
        "##### 2. What is/are the insight(s) found from the chart?"
      ],
      "metadata": {
        "id": "OVtJsKN_phqQ"
      }
    },
    {
      "cell_type": "markdown",
      "source": [
        "The chart highlights how average prices vary by neighbourhood_group and room type. It identifies areas with premium pricing and those offering more affordable options, catering to diverse customer segments."
      ],
      "metadata": {
        "id": "ngGi97qjphqQ"
      }
    },
    {
      "cell_type": "markdown",
      "source": [
        "##### 3. Will the gained insights help creating a positive business impact?\n",
        "Are there any insights that lead to negative growth? Justify with specific reason."
      ],
      "metadata": {
        "id": "lssrdh5qphqQ"
      }
    },
    {
      "cell_type": "markdown",
      "source": [
        "Yes, it helps optimize pricing strategies by aligning with customer expectations in different areas and room types. Negative growth could occur if prices in certain areas exceed customer willingness to pay, requiring competitive pricing to avoid reducing demand."
      ],
      "metadata": {
        "id": "tBpY5ekJphqQ"
      }
    },
    {
      "cell_type": "markdown",
      "source": [
        "#### Chart - No. of Active Host Per Location (Where Most of The Host Focused on Own Property)"
      ],
      "metadata": {
        "id": "U2RJ9gkRphqQ"
      }
    },
    {
      "cell_type": "code",
      "source": [
        "# Chart - 10 visualization code\n",
        "no_of_host_per_location = airbnb_df.groupby('neighbourhood_group')['host_id'].count().sort_values(ascending=False)\n",
        "no_of_host_per_location\n"
      ],
      "metadata": {
        "id": "GM7a4YP4phqQ"
      },
      "execution_count": null,
      "outputs": []
    },
    {
      "cell_type": "code",
      "source": [
        "#Graph\n",
        "plt.legend(labels = ['No. of Host'])\n",
        "plt.plot(no_of_host_per_location)\n",
        "plt.title('Number of host per location')\n",
        "plt.ylabel('Host')\n",
        "plt.xlabel('Location')"
      ],
      "metadata": {
        "id": "ePfrEeVFJz9W"
      },
      "execution_count": null,
      "outputs": []
    },
    {
      "cell_type": "markdown",
      "source": [
        "##### 1. Why did you pick the specific chart?"
      ],
      "metadata": {
        "id": "1M8mcRywphqQ"
      }
    },
    {
      "cell_type": "markdown",
      "source": [
        "A line chart was chosen to show the count of active hosts across neighbourhood_groups in a sequential manner, highlighting trends or dominance in host activity. It effectively demonstrates variations across locations."
      ],
      "metadata": {
        "id": "8agQvks0phqQ"
      }
    },
    {
      "cell_type": "markdown",
      "source": [
        "##### 2. What is/are the insight(s) found from the chart?"
      ],
      "metadata": {
        "id": "tgIPom80phqQ"
      }
    },
    {
      "cell_type": "markdown",
      "source": [
        "The chart shows which locations have the highest and lowest number of active hosts, indicating areas where hosts are most focused on owning properties. This reflects the attractiveness of certain locations for property investments."
      ],
      "metadata": {
        "id": "Qp13pnNzphqQ"
      }
    },
    {
      "cell_type": "markdown",
      "source": [
        "##### 3. Will the gained insights help creating a positive business impact?\n",
        "Are there any insights that lead to negative growth? Justify with specific reason."
      ],
      "metadata": {
        "id": "JMzcOPDDphqR"
      }
    },
    {
      "cell_type": "markdown",
      "source": [
        "Yes, the insights help identify high-activity locations for targeted marketing or further development. Negative growth may arise in areas with low host counts, suggesting a lack of interest or potential barriers that need to be addressed to attract more hosts."
      ],
      "metadata": {
        "id": "R4Ka1PC2phqR"
      }
    },
    {
      "cell_type": "markdown",
      "source": [
        "#### Chart - Correlation Heatmap"
      ],
      "metadata": {
        "id": "NC_X3p0fY2L0"
      }
    },
    {
      "cell_type": "code",
      "source": [
        "# Correlation Heatmap visualization code\n",
        "corr = df.corr(numeric_only=True)\n",
        "plt.figure(figsize=(10,6))\n",
        "sns.heatmap(corr, annot=True, cmap='coolwarm')\n",
        "plt.title('Correlation Heatmap')\n",
        "plt.show()"
      ],
      "metadata": {
        "id": "xyC9zolEZNRQ"
      },
      "execution_count": null,
      "outputs": []
    },
    {
      "cell_type": "markdown",
      "source": [
        "##### 1. Why did you pick the specific chart?"
      ],
      "metadata": {
        "id": "UV0SzAkaZNRQ"
      }
    },
    {
      "cell_type": "markdown",
      "source": [
        "A heatmap was chosen because it visually represents the correlations between numerical variables, using color gradients to indicate the strength and direction of relationships. This chart is ideal for identifying significant dependencies or multicollinearity in the dataset."
      ],
      "metadata": {
        "id": "DVPuT8LYZNRQ"
      }
    },
    {
      "cell_type": "markdown",
      "source": [
        "##### 2. What is/are the insight(s) found from the chart?"
      ],
      "metadata": {
        "id": "YPEH6qLeZNRQ"
      }
    },
    {
      "cell_type": "markdown",
      "source": [
        "The heatmap reveals strong positive or negative correlations between variables (e.g., price and number of reviews). It helps identify key drivers or inhibitors of certain outcomes and potential redundancies among variables."
      ],
      "metadata": {
        "id": "bfSqtnDqZNRR"
      }
    },
    {
      "cell_type": "markdown",
      "source": [
        "##### 3. Will the gained insights help creating a positive business impact?\n",
        "Are there any insights that lead to negative growth? Justify with specific reason."
      ],
      "metadata": {
        "id": "sFQunqYk8guF"
      }
    },
    {
      "cell_type": "markdown",
      "source": [
        "Yes, insights can guide feature selection for predictive models and inform business strategies by highlighting impactful relationships. Negative growth could occur if decisions are based on weak or misleading correlations, emphasizing the importance of deeper analysis of identified patterns."
      ],
      "metadata": {
        "id": "q3yUp5cl8jPE"
      }
    },
    {
      "cell_type": "markdown",
      "source": [
        "## **5. Solution to Business Objective**"
      ],
      "metadata": {
        "id": "JcMwzZxoAimU"
      }
    },
    {
      "cell_type": "markdown",
      "source": [
        "#### What do you suggest the client to achieve Business Objective ?\n",
        "Explain Briefly."
      ],
      "metadata": {
        "id": "8G2x9gOozGDZ"
      }
    },
    {
      "cell_type": "markdown",
      "source": [
        "To achieve the business objective, I recommend the following:\n",
        "\n",
        "1. **Optimize Pricing Strategies:** Use insights from the correlation heatmap and price-based analysis to determine pricing ranges that balance profitability and customer engagement, ensuring competitiveness across locations and room types.\n",
        "\n",
        "2. **Focus on High-Demand Areas:** Invest more resources in neighbourhood_groups with high activity and review counts. Tailor marketing and service improvements in these areas to capitalize on customer demand.\n",
        "\n",
        "3. **Diversify Room Offerings:** Address underrepresented room types in specific areas to meet diverse customer needs, leveraging data from the room type distribution analysis.\n",
        "\n",
        "4. **Enhance Host Activity:** Identify barriers in areas with low host engagement and introduce incentives or training to encourage more listings in these locations.\n",
        "\n",
        "5.  **Leverage Customer Engagement Metrics:** Act on review trends to improve customer satisfaction by addressing complaints or enhancing popular features.\n",
        "\n",
        "By aligning these strategies with insights from the data, the client can maximize growth, improve customer satisfaction, and create a sustainable competitive advantage."
      ],
      "metadata": {
        "id": "pASKb0qOza21"
      }
    },
    {
      "cell_type": "markdown",
      "source": [
        "# **Conclusion**"
      ],
      "metadata": {
        "id": "gCX9965dhzqZ"
      }
    },
    {
      "cell_type": "markdown",
      "source": [
        "* Manhattan is the most focused place in New York for hosts to do their business\n",
        "\n",
        "* Customers pay highest amount in Brooklyn,Queens and Manhattan that is 10,000 and lowest amount is 10$.\n",
        "\n",
        "* For the three types of room type (i.e. Entire home, Shared room, & Private room) average price of entire home is around $157, for shared room is around 60, and for private room is around 75.\n",
        "\n",
        "* 'Entire home/apt' room type has the highest number of listing of 52% and ‘Shared Room’ is the least listed room type at only 2.4% in total.\n",
        "\n",
        "* People stay for longer duration of time in Private rooms in Brooklyn and Manhattan. *Words such as ‘bedroom’, ‘cozy’, ‘private’, ‘apartment’ and ‘spacious’ are used more frequently than words such as ‘park’, ‘near’, ‘village’ and ‘heart’. *Count of listing by top 10 hosts is almost 2.5%(1270 listings) of the whole dataset. *Top three host base on their turnover are Sonder(nyc),Red awning, Henry and best host is Sonder(nyc) *More customer preferred Manhattan location for night stay then Brooklyn *63.2% customer spend night in Entire home and 1.6% spend night in Shared room"
      ],
      "metadata": {
        "id": "Fjb1IsQkh3yE"
      }
    },
    {
      "cell_type": "markdown",
      "source": [
        "### ***Hurrah! You have successfully completed your EDA Capstone Project !!!***"
      ],
      "metadata": {
        "id": "gIfDvo9L0UH2"
      }
    }
  ]
}